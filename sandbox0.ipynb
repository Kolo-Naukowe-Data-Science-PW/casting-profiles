{
 "cells": [
  {
   "cell_type": "code",
   "execution_count": 1,
   "id": "da13e9e9-f2e4-4675-ae26-7510c647bc6e",
   "metadata": {},
   "outputs": [],
   "source": [
    "import matplotlib.pyplot as plt\n",
    "import numpy as np\n",
    "from PIL import Image"
   ]
  },
  {
   "cell_type": "code",
   "execution_count": 2,
   "id": "60de27fa-5847-4175-961a-b41bdc954964",
   "metadata": {},
   "outputs": [],
   "source": [
    "def read_and_convert_to_binary(filepath, threshold = 0.3, coef=0.4):\n",
    "    \"\"\"\n",
    "    Requires numpy and Image from PIL\n",
    "    \"\"\"\n",
    "    image = Image.open(filepath)\n",
    "\n",
    "    data = np.asarray(image)\n",
    "    data = 0.2989 * data[:,:,0] + 0.5870 * data[:,:,1] + 0.1140 * data[:,:,2]\n",
    "    data = data / 255\n",
    "    data = 1 - data\n",
    "\n",
    "    rowSums = data.sum(axis=1)\n",
    "    colSums = data.sum(axis=0)\n",
    "\n",
    "    data[rowSums <= 4, :] = 0\n",
    "    data[:, colSums <= 6] = 0\n",
    "    \n",
    "    data = data > threshold\n",
    "\n",
    "    return data  "
   ]
  },
  {
   "cell_type": "code",
   "execution_count": 3,
   "id": "40ec9d9c-851f-4e17-aa2f-e6b7d630bb01",
   "metadata": {},
   "outputs": [],
   "source": [
    "image = read_and_convert_to_binary(\"Skany profili/Profil 002.1.jpg\")"
   ]
  },
  {
   "cell_type": "code",
   "execution_count": 4,
   "id": "113b2142-a603-4d76-be6b-53b932f1dd0a",
   "metadata": {},
   "outputs": [],
   "source": [
    "data = image"
   ]
  },
  {
   "cell_type": "code",
   "execution_count": 5,
   "id": "24f60275-2055-43d3-94a4-000257814bff",
   "metadata": {},
   "outputs": [],
   "source": [
    "rowSums, colSums = data.sum(axis=1), data.sum(axis=0)"
   ]
  },
  {
   "cell_type": "code",
   "execution_count": 23,
   "id": "cd2272ca-ebc3-4384-800f-4e5a1d851ae1",
   "metadata": {},
   "outputs": [
    {
     "data": {
      "text/plain": [
       "array([271, 294, 294, 294, 294, 294, 294, 294, 294, 294, 294, 294, 294,\n",
       "       294, 294, 294, 294, 294, 294, 294, 294, 294, 295, 294, 295, 295,\n",
       "       295, 295, 295, 295, 295, 295, 295, 295, 295, 295, 295, 295, 295,\n",
       "       295, 295, 295, 295, 295, 295, 295, 295, 295, 295, 295, 296, 295,\n",
       "       296, 296, 296, 296, 296, 296, 296, 296, 296, 296, 296, 287, 279,\n",
       "       278, 259, 245, 229, 217, 213, 207, 204, 210, 219, 227, 228, 232,\n",
       "       238, 236, 240, 240, 240, 239, 243, 244, 245, 248, 247, 248, 246,\n",
       "       246, 244, 244, 246, 246, 245, 246, 244, 242, 236, 235, 234, 235,\n",
       "       236, 237, 232, 226, 223, 214, 199, 202, 205, 215, 223, 235, 248,\n",
       "       273, 287, 297, 297, 297, 297, 297, 297, 297, 297, 297, 297, 297,\n",
       "       297, 297, 297, 297, 297, 297, 297, 297, 297, 297, 297, 297, 297,\n",
       "       297, 297, 297, 297, 297, 297, 297, 297, 297, 297, 297, 297, 297,\n",
       "       297, 297, 297, 297, 297, 297, 297, 297, 297, 297, 297, 297, 297,\n",
       "       297, 297, 297, 297, 297, 297, 297, 297, 297, 297, 297, 297, 297,\n",
       "       297, 297, 297, 297, 297, 297, 297, 297, 297, 297, 297, 297, 297,\n",
       "       297, 297, 297, 297, 297, 297, 297, 297, 297, 297, 297, 297, 297,\n",
       "       297, 297, 297, 297, 296, 201,  89,   0,   0,   0,   0,   0,   0,\n",
       "         0,   0,   0,   0,   0,   0,   0,   0,   0,   0,   0,   0,   0,\n",
       "         0,   0,   0,   0,   0,   0,   0,   0,   0,   0,   0,   0,   0,\n",
       "         0,   0,   0,   0,   0,   0,   0,   0,   0,   0,   0,   0,   0,\n",
       "         0,   0,   0,   0,   0,   0,   0,   0,   0,   0,   0,   0,   0,\n",
       "         0,   0,   0,   0,   0,   0,   0,   0,   0,   0,   0,   0,   0,\n",
       "         0,   0,   0,   0,   0,   0,   0,   0,   0,   0,   0,   0,   0,\n",
       "         0])"
      ]
     },
     "execution_count": 23,
     "metadata": {},
     "output_type": "execute_result"
    }
   ],
   "source": [
    "rowSums[:300]"
   ]
  },
  {
   "cell_type": "code",
   "execution_count": 39,
   "id": "74509bd6-bbbb-4a0f-adc2-aaa25e514191",
   "metadata": {},
   "outputs": [],
   "source": [
    "rowDiffs = np.diff(rowSums[:250])\n",
    "colDiffs = np.diff(colSums)\n"
   ]
  },
  {
   "cell_type": "code",
   "execution_count": 40,
   "id": "c72d3667-3bb1-4804-a0df-3f50dcdbb9e5",
   "metadata": {},
   "outputs": [
    {
     "data": {
      "text/plain": [
       "array([  23,    0,    0,    0,    0,    0,    0,    0,    0,    0,    0,\n",
       "          0,    0,    0,    0,    0,    0,    0,    0,    0,    0,    1,\n",
       "         -1,    1,    0,    0,    0,    0,    0,    0,    0,    0,    0,\n",
       "          0,    0,    0,    0,    0,    0,    0,    0,    0,    0,    0,\n",
       "          0,    0,    0,    0,    0,    1,   -1,    1,    0,    0,    0,\n",
       "          0,    0,    0,    0,    0,    0,    0,   -9,   -8,   -1,  -19,\n",
       "        -14,  -16,  -12,   -4,   -6,   -3,    6,    9,    8,    1,    4,\n",
       "          6,   -2,    4,    0,    0,   -1,    4,    1,    1,    3,   -1,\n",
       "          1,   -2,    0,   -2,    0,    2,    0,   -1,    1,   -2,   -2,\n",
       "         -6,   -1,   -1,    1,    1,    1,   -5,   -6,   -3,   -9,  -15,\n",
       "          3,    3,   10,    8,   12,   13,   25,   14,   10,    0,    0,\n",
       "          0,    0,    0,    0,    0,    0,    0,    0,    0,    0,    0,\n",
       "          0,    0,    0,    0,    0,    0,    0,    0,    0,    0,    0,\n",
       "          0,    0,    0,    0,    0,    0,    0,    0,    0,    0,    0,\n",
       "          0,    0,    0,    0,    0,    0,    0,    0,    0,    0,    0,\n",
       "          0,    0,    0,    0,    0,    0,    0,    0,    0,    0,    0,\n",
       "          0,    0,    0,    0,    0,    0,    0,    0,    0,    0,    0,\n",
       "          0,    0,    0,    0,    0,    0,    0,    0,    0,    0,    0,\n",
       "          0,    0,    0,    0,    0,    0,    0,    0,    0,    0,    0,\n",
       "          0,    0,   -1,  -95, -112,  -89,    0,    0,    0,    0,    0,\n",
       "          0,    0,    0,    0,    0,    0,    0,    0,    0,    0,    0,\n",
       "          0,    0,    0,    0,    0,    0,    0,    0,    0,    0,    0,\n",
       "          0,    0,    0,    0,    0,    0,    0])"
      ]
     },
     "execution_count": 40,
     "metadata": {},
     "output_type": "execute_result"
    }
   ],
   "source": [
    "rowDiffs"
   ]
  },
  {
   "cell_type": "code",
   "execution_count": 41,
   "id": "401dce23-c5ce-42eb-9df8-84c3f2d5e1d6",
   "metadata": {},
   "outputs": [],
   "source": [
    "rowDiffs = (rowDiffs < -0.1*np.max(np.abs(rowDiffs[:data.shape[0]//2]))).astype(np.int8)\n",
    "colDiffs = (colDiffs < -0.1*np.max(np.abs(colDiffs[:data.shape[1]//2]))).astype(np.int8)"
   ]
  },
  {
   "cell_type": "code",
   "execution_count": 43,
   "id": "9970b540-39ba-4ff7-93b0-86f8032ee0f0",
   "metadata": {},
   "outputs": [
    {
     "data": {
      "text/plain": [
       "(array([ 65,  66,  67,  68, 109, 212, 213, 214], dtype=int64),)"
      ]
     },
     "execution_count": 43,
     "metadata": {},
     "output_type": "execute_result"
    }
   ],
   "source": [
    "np.where(rowDiffs)"
   ]
  },
  {
   "cell_type": "code",
   "execution_count": 6,
   "id": "e5d7af15-1333-49dd-8fed-c9dc338f0ceb",
   "metadata": {},
   "outputs": [
    {
     "data": {
      "text/plain": [
       "2"
      ]
     },
     "execution_count": 6,
     "metadata": {},
     "output_type": "execute_result"
    }
   ],
   "source": [
    "np.argmax([False, False, True, False])"
   ]
  },
  {
   "cell_type": "code",
   "execution_count": null,
   "id": "8e99b4f4-34bf-4982-a3c7-6d58471bfb71",
   "metadata": {},
   "outputs": [],
   "source": []
  }
 ],
 "metadata": {
  "kernelspec": {
   "display_name": "Python 3 (ipykernel)",
   "language": "python",
   "name": "python3"
  },
  "language_info": {
   "codemirror_mode": {
    "name": "ipython",
    "version": 3
   },
   "file_extension": ".py",
   "mimetype": "text/x-python",
   "name": "python",
   "nbconvert_exporter": "python",
   "pygments_lexer": "ipython3",
   "version": "3.11.5"
  }
 },
 "nbformat": 4,
 "nbformat_minor": 5
}
