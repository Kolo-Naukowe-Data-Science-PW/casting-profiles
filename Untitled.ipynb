{
 "cells": [
  {
   "cell_type": "code",
   "execution_count": 2,
   "id": "55adc8fb-a8fc-4330-92a7-62380b673a90",
   "metadata": {},
   "outputs": [],
   "source": [
    "import matplotlib.pyplot as plt\n",
    "import numpy as np\n",
    "from PIL import Image\n",
    "import os"
   ]
  },
  {
   "cell_type": "code",
   "execution_count": 3,
   "id": "ad76ee47-692f-4db9-ad0e-5e928316f33c",
   "metadata": {},
   "outputs": [],
   "source": [
    "def plotImage(image):\n",
    "    plt.imshow(X=image, cmap=\"binary\")\n",
    "    plt.axis(\"off\")\n",
    "    plt.tight_layout()\n",
    "    plt.show()\n",
    "\n",
    "def plotImageWithGrid(image):\n",
    "    plt.imshow(X=image, cmap=\"binary\")\n",
    "    plt.tight_layout()\n",
    "    plt.grid(\"on\")\n",
    "    plt.show()"
   ]
  },
  {
   "cell_type": "code",
   "execution_count": 99,
   "id": "8f734202-8015-49aa-8f5e-00c4f90a9eeb",
   "metadata": {},
   "outputs": [],
   "source": [
    "def easy_case(data, empty_rows_threshold=10, empty_cols_threshold=10, scalling_coef_rows=0.04, scalling_coef_cols=0.04):\n",
    "    \"\"\"\n",
    "    Checks if it is possible to separate the label with horizontal/vertical line,\n",
    "    under the assumption is that the label is in the northwest part of the picture.\n",
    "    :param data: 2-dimensional matrix\n",
    "    :param empty_rows_threshold: rows with a sum of elements lower than that are find empty\n",
    "    :param empty_cols_threshold: cols with a sum of elements lower than that are find empty\n",
    "    :param scalling_coef_rows: proportion of half of the label to the whole picture\n",
    "    :param scalling_coef_cols: proportion of half of the label to the whole picture\n",
    "    :return: boolean value if algorithm worked\n",
    "    \"\"\"\n",
    "\n",
    "    rowSums, colSums = data.sum(axis=1), data.sum(axis=0)\n",
    "\n",
    "    emptyRows = (rowSums < empty_rows_threshold)\n",
    "    firstNonEmptyRowIndex = np.argmin(emptyRows)\n",
    "    if firstNonEmptyRowIndex < data.shape[0] // 2:\n",
    "        labelSpaceHeight = np.argmax(emptyRows[(firstNonEmptyRowIndex+int(data.shape[0]*scalling_coef_rows)):])\n",
    "        if labelSpaceHeight + firstNonEmptyRowIndex < (data.shape[0] // 3):\n",
    "            data[:(labelSpaceHeight + firstNonEmptyRowIndex), :] = 0\n",
    "            return True\n",
    "\n",
    "    emptyCols = (colSums < empty_cols_threshold)\n",
    "    firstNonEmptyColIndex = np.argmin(emptyCols)\n",
    "    if firstNonEmptyColIndex < data.shape[1] // 2:\n",
    "        labelSpaceWidth = np.argmax(emptyCols[(firstNonEmptyColIndex+int(data.shape[1]*scalling_coef_cols)):])\n",
    "        if labelSpaceWidth + firstNonEmptyColIndex < (data.shape[1] // 3):\n",
    "            data[:, :(labelSpaceWidth + firstNonEmptyColIndex)] = 0\n",
    "            return True\n",
    "\n",
    "    return False\n",
    "            \n",
    "\n",
    "def handle_labels_01(data):\n",
    "    if easy_case(data):\n",
    "        return data\n",
    "\n",
    "    rowSums, colSums = data.sum(axis=1), data.sum(axis=0)\n",
    "    \n",
    "    rowDiffs = np.diff(rowSums)\n",
    "    colDiffs = np.diff(colSums)\n",
    "\n",
    "    rowDiffs = (rowDiffs < -40).astype(np.int32)\n",
    "    colDiffs = (colDiffs < -50).astype(np.int32)\n",
    "\n",
    "    rowDiffs = np.diff(rowDiffs)\n",
    "    colDiffs = np.diff(colDiffs)\n",
    "\n",
    "    data[:int(np.argmin(rowDiffs)*1.05), :int(np.argmin(colDiffs)*1.05)] = 0\n",
    "\n",
    "    return data\n",
    "\n",
    "def handle_labels_02(data, coeff = 0.4):\n",
    "    if easy_case(data):\n",
    "        return data\n",
    "        \n",
    "    rowSums, colSums = data.sum(axis=1), data.sum(axis=0)\n",
    "\n",
    "    row = col = 0\n",
    "    for i in range(1000):\n",
    "        rowDiffs = np.diff(rowSums)\n",
    "        colDiffs = np.diff(colSums)\n",
    "    \n",
    "        rowDiffs = (rowDiffs < -coeff*np.max(np.abs(rowDiffs))).astype(np.int32)\n",
    "        colDiffs = (colDiffs < -coeff*np.max(np.abs(colDiffs))).astype(np.int32)\n",
    "    \n",
    "        rowDiffs = np.diff(rowDiffs)\n",
    "        colDiffs = np.diff(colDiffs)\n",
    "    \n",
    "    data[:int(np.argmin(rowSums)*1.05), :int(np.argmin(colDiffs)*1.05)] = 0\n",
    "\n",
    "    return data\n",
    "\n",
    "def handle_labels_03(data, label_coeff=0.3, finalHeight = 1754, finalWidth = 1275):\n",
    "    if easy_case(data):\n",
    "        return data\n",
    "    \n",
    "    rowSums, colSums = data.sum(axis=1), data.sum(axis=0)\n",
    "    \n",
    "    for i in np.linspace(label_coeff, 0, 100):\n",
    "        rowDiffs = np.diff(rowSums)\n",
    "        colDiffs = np.diff(colSums)\n",
    "    \n",
    "        rowDiffs = (rowDiffs < -i*np.max(np.abs(rowDiffs[:data.shape[0]//2]))).astype(np.int8)\n",
    "        colDiffs = (colDiffs < -i*np.max(np.abs(colDiffs[:data.shape[1]//2]))).astype(np.int8)\n",
    "\n",
    "        rowDiffs = np.diff(rowDiffs)\n",
    "        colDiffs = np.diff(colDiffs)\n",
    "\n",
    "        if np.where(rowDiffs < 0)[0].shape[0] * np.where(colDiffs < 0)[0].shape[0] != 0:\n",
    "            break\n",
    "    else:\n",
    "        print(\"Wystapił błąd\")\n",
    "        return data\n",
    "        \n",
    "    data[:int(np.where(rowDiffs)[0][-1]*1.05), :int(np.where(colDiffs)[0][-1]*1.05)] = 0\n",
    "    return data\n",
    "\n",
    "    #rowDiffs = (rowDiffs < -label_coeff*np.max(np.abs(rowDiffs[:data.shape[0]//2))).astype(np.int8)\n",
    "    #colDiffs = (colDiffs < -label_coeff*np.max(np.abs(colDiffs[:data.shape[1]//2)).astype(np.int8)\n",
    "\n",
    "    \n",
    "\n",
    "    #rowDiffs[:350] = 0\n",
    "    #colDiffs[:350] = 0\n",
    "\n",
    "    "
   ]
  },
  {
   "cell_type": "code",
   "execution_count": 100,
   "id": "a1849e47-6a5f-40d6-8335-09d1a9b9f91b",
   "metadata": {},
   "outputs": [],
   "source": [
    "def read_and_convert_to_binary(filepath, threshold = 0.3, coef=0.4):\n",
    "    \"\"\"\n",
    "    Requires numpy and Image from PIL\n",
    "    \"\"\"\n",
    "    image = Image.open(filepath)\n",
    "\n",
    "    data = np.asarray(image)\n",
    "    data = 0.2989 * data[:,:,0] + 0.5870 * data[:,:,1] + 0.1140 * data[:,:,2]\n",
    "    data = data / 255\n",
    "    data = 1 - data\n",
    "\n",
    "    rowSums = data.sum(axis=1)\n",
    "    colSums = data.sum(axis=0)\n",
    "\n",
    "    data[rowSums <= 4, :] = 0\n",
    "    data[:, colSums <= 6] = 0\n",
    "    \n",
    "    data = data > threshold\n",
    "\n",
    "    return data  "
   ]
  },
  {
   "cell_type": "code",
   "execution_count": 101,
   "id": "1e43604b-8fe2-46c8-a7f6-06d485b80e32",
   "metadata": {},
   "outputs": [],
   "source": [
    "image = read_and_convert_to_binary(\"Skany profili//Profil 090.1.jpg\")"
   ]
  },
  {
   "cell_type": "code",
   "execution_count": 102,
   "id": "3852e79a-da01-461d-85c5-c8ce1cd85882",
   "metadata": {},
   "outputs": [
    {
     "data": {
      "text/plain": [
       "array([  0,   0,   0,   0,   0,   0,   0,   0,   0,   0,  89, 212, 215,\n",
       "       215, 215, 215, 215, 215, 215, 215, 215, 215, 215, 215, 215, 215,\n",
       "       215, 215, 215, 215, 215, 215, 215, 215, 215, 215, 215, 216, 216,\n",
       "       215, 215, 215, 215, 215, 215, 215, 215, 215, 215, 215, 215, 215,\n",
       "       215, 215, 215, 215, 215, 215, 215, 215, 215, 215, 215, 215, 215,\n",
       "       215, 215, 215, 215, 215, 215, 215, 215, 215, 215, 215, 215, 215,\n",
       "       215, 215, 215, 215, 215, 215, 215, 215, 215, 215, 215, 215, 215,\n",
       "       215, 215, 215, 215, 215, 215, 215, 217, 215, 215, 215, 215, 215,\n",
       "       215, 215, 215, 215, 216, 216, 215, 216, 215, 215, 215, 214, 214,\n",
       "       214, 215, 214, 215, 215, 215, 214, 214, 214, 215, 215, 214, 215,\n",
       "       214, 214, 214, 214, 214, 214, 214, 214, 215, 214, 214, 214, 214,\n",
       "       216, 214, 214, 214, 214, 214, 214, 214, 214, 214, 214, 214, 214,\n",
       "       214, 214, 214, 214, 214, 214, 214, 214, 214, 214, 214, 214, 214,\n",
       "       214, 214, 212, 206, 199, 198, 201, 201, 198, 200, 203, 205, 205,\n",
       "       205, 206, 207, 206, 207, 208, 206, 205, 205, 206, 207, 208, 210,\n",
       "       207, 208, 207, 206, 206, 205, 201, 198, 202, 214, 214, 214, 214,\n",
       "       211, 210, 209, 209, 210, 206, 201, 201, 201, 198, 196, 194, 200,\n",
       "       198, 202, 200, 197, 198, 204, 204, 203, 203, 200, 198, 191, 186,\n",
       "       191, 194, 202, 201, 203, 205, 208, 214, 214, 214, 214, 213, 203,\n",
       "       200, 196, 198, 203, 203, 205, 205, 204, 204, 204, 205, 205, 207,\n",
       "       210, 209, 208, 210, 208, 208, 207, 208, 209, 208, 208, 208, 208,\n",
       "       207, 207, 205, 201, 198, 204, 214, 214, 214, 214, 214, 214, 214,\n",
       "       214, 214, 214, 214, 214, 214, 214, 214, 214, 214, 214, 214, 214,\n",
       "       214, 214, 214, 214, 214, 213, 213,   0,   0,   0,   0,   0,   0,\n",
       "         0,   0,   0,   0,   0,   0,   0,   0])"
      ]
     },
     "execution_count": 102,
     "metadata": {},
     "output_type": "execute_result"
    }
   ],
   "source": [
    "image.sum(axis=0)[:320]"
   ]
  },
  {
   "cell_type": "code",
   "execution_count": 103,
   "id": "ba72aae6-7170-4a2f-93dd-60e124ebb193",
   "metadata": {},
   "outputs": [
    {
     "data": {
      "text/plain": [
       "array([[1, 1, 1, 1, 1, 1, 1, 1, 1, 1, 0, 0, 0, 0, 0, 0, 0, 0, 0, 0],\n",
       "       [0, 0, 0, 0, 0, 0, 0, 0, 0, 0, 0, 0, 0, 0, 0, 0, 0, 0, 0, 0],\n",
       "       [0, 0, 0, 0, 0, 0, 0, 0, 0, 0, 0, 0, 0, 0, 0, 0, 0, 0, 0, 0],\n",
       "       [0, 0, 0, 0, 0, 0, 0, 0, 0, 0, 0, 0, 0, 0, 0, 0, 0, 0, 0, 0],\n",
       "       [0, 0, 0, 0, 0, 0, 0, 0, 0, 0, 0, 0, 0, 0, 0, 0, 0, 0, 0, 0],\n",
       "       [0, 0, 0, 0, 0, 0, 0, 0, 0, 0, 0, 0, 0, 0, 0, 0, 0, 0, 0, 0],\n",
       "       [0, 0, 0, 0, 0, 0, 0, 0, 0, 0, 0, 0, 0, 0, 0, 0, 0, 0, 0, 0],\n",
       "       [0, 0, 0, 0, 0, 0, 0, 0, 0, 0, 0, 0, 0, 0, 0, 0, 0, 0, 0, 0],\n",
       "       [0, 0, 0, 0, 0, 0, 0, 0, 0, 0, 0, 0, 0, 0, 0, 0, 0, 0, 0, 0],\n",
       "       [0, 0, 0, 0, 0, 0, 0, 0, 0, 0, 0, 0, 0, 0, 0, 0, 0, 0, 0, 0],\n",
       "       [0, 0, 0, 0, 0, 0, 0, 0, 0, 0, 0, 0, 0, 0, 0, 0, 0, 0, 0, 0],\n",
       "       [0, 0, 0, 0, 0, 0, 0, 0, 0, 0, 0, 0, 0, 0, 0, 0, 0, 0, 0, 0],\n",
       "       [0, 0, 0, 0, 0, 0, 0, 0, 0, 0, 0, 0, 0, 0, 0, 0, 0, 0, 0, 0],\n",
       "       [0, 0, 0, 0, 0, 0, 0, 0, 0, 0, 0, 0, 0, 0, 0, 0, 0, 0, 0, 0],\n",
       "       [0, 0, 0, 0, 0, 0, 0, 0, 0, 0, 0, 0, 0, 0, 0, 0, 0, 0, 0, 0],\n",
       "       [0, 0, 0, 0, 0, 0, 1, 1, 1, 1, 1, 1, 1, 1, 1, 1, 1, 1, 1, 1],\n",
       "       [1, 1, 1, 1, 1, 1, 1, 1, 1, 1, 1, 1, 1, 1, 1, 1, 1, 1, 1, 1],\n",
       "       [1, 1, 1, 1, 1, 1, 1, 1, 1, 1, 1, 1, 1, 1, 1, 1, 1, 1, 1, 1],\n",
       "       [1, 1, 1, 1, 1, 1, 1, 1, 1, 1, 1, 1, 1, 1, 1, 1, 1, 1, 1, 1],\n",
       "       [1, 1, 1, 1, 1, 1, 1, 1, 1, 1, 1, 1, 1, 1, 1, 1, 1, 1, 1, 1]],\n",
       "      dtype=int8)"
      ]
     },
     "execution_count": 103,
     "metadata": {},
     "output_type": "execute_result"
    }
   ],
   "source": [
    "(image.sum(axis=0)[:400] < 10).astype(np.int8).reshape(20, 20)"
   ]
  },
  {
   "cell_type": "code",
   "execution_count": 104,
   "id": "44055729-8b1d-427b-9854-93b8679359fc",
   "metadata": {},
   "outputs": [
    {
     "data": {
      "text/plain": [
       "256"
      ]
     },
     "execution_count": 104,
     "metadata": {},
     "output_type": "execute_result"
    }
   ],
   "source": [
    "np.argmax((image.sum(axis=0) < 10)[10+40:])"
   ]
  },
  {
   "cell_type": "code",
   "execution_count": 105,
   "id": "fad63dea-54d8-4797-a0a9-8825e8ee7962",
   "metadata": {},
   "outputs": [
    {
     "data": {
      "text/plain": [
       "array([  0,   0,   0,   0,   0,   0,   0,   0,   0,   0,  89, 212, 215,\n",
       "       215, 215, 215, 215, 215, 215, 215, 215, 215, 215, 215, 215, 215,\n",
       "       215, 215, 215, 215, 215, 215, 215, 215, 215, 215, 215, 216, 216,\n",
       "       215, 215, 215, 215, 215, 215, 215, 215, 215, 215, 215, 215, 215,\n",
       "       215, 215, 215, 215, 215, 215, 215, 215, 215, 215, 215, 215, 215,\n",
       "       215, 215, 215, 215, 215, 215, 215, 215, 215, 215, 215, 215, 215,\n",
       "       215, 215, 215, 215, 215, 215, 215, 215, 215, 215, 215, 215, 215,\n",
       "       215, 215, 215, 215, 215, 215, 215, 217, 215, 215, 215, 215, 215,\n",
       "       215, 215, 215, 215, 216, 216, 215, 216, 215, 215, 215, 214, 214,\n",
       "       214, 215, 214, 215, 215, 215, 214, 214, 214, 215, 215, 214, 215,\n",
       "       214, 214, 214, 214, 214, 214, 214, 214, 215, 214, 214, 214, 214,\n",
       "       216, 214, 214, 214, 214, 214, 214, 214, 214, 214, 214, 214, 214,\n",
       "       214, 214, 214, 214, 214, 214, 214, 214, 214, 214, 214, 214, 214,\n",
       "       214, 214, 212, 206, 199, 198, 201, 201, 198, 200, 203, 205, 205,\n",
       "       205, 206, 207, 206, 207, 208, 206, 205, 205, 206, 207, 208, 210,\n",
       "       207, 208, 207, 206, 206, 205, 201, 198, 202, 214, 214, 214, 214,\n",
       "       211, 210, 209, 209, 210, 206, 201, 201, 201, 198, 196, 194, 200,\n",
       "       198, 202, 200, 197, 198, 204, 204, 203, 203, 200, 198, 191, 186,\n",
       "       191, 194, 202, 201, 203, 205, 208, 214, 214, 214, 214, 213, 203,\n",
       "       200, 196, 198, 203, 203, 205, 205, 204, 204, 204, 205, 205, 207,\n",
       "       210, 209, 208, 210, 208, 208, 207, 208, 209, 208, 208, 208, 208,\n",
       "       207, 207, 205, 201, 198, 204, 214, 214, 214, 214, 214, 214, 214,\n",
       "       214, 214, 214, 214, 214, 214, 214, 214, 214, 214, 214, 214, 214,\n",
       "       214, 214, 214, 214, 214, 213, 213,   0,   0,   0,   0,   0,   0,\n",
       "         0,   0,   0,   0,   0,   0,   0,   0,   0,   0,   0,   0,   0,\n",
       "         0,   0,   0,   0,   0,   0,   0,   0,   0,   0,   0,   0,   0,\n",
       "         0,   0,   0,   0,   0,   0,   0,   0,   0,   0,   0,   0])"
      ]
     },
     "execution_count": 105,
     "metadata": {},
     "output_type": "execute_result"
    }
   ],
   "source": [
    "image.sum(axis=0)[:350]"
   ]
  },
  {
   "cell_type": "code",
   "execution_count": 106,
   "id": "e0ddef13-6ca4-4cea-9a39-2f8d7ebfcfb5",
   "metadata": {},
   "outputs": [
    {
     "data": {
      "image/png": "[encoded data removed]",
      "text/plain": [
       "<Figure size 640x480 with 1 Axes>"
      ]
     },
     "metadata": {},
     "output_type": "display_data"
    }
   ],
   "source": [
    "plotImage(image)"
   ]
  },
  {
   "cell_type": "code",
   "execution_count": 107,
   "id": "e2c401ee-9e6f-4d2a-a367-2512ea1aafd6",
   "metadata": {},
   "outputs": [
    {
     "data": {
      "image/png": "[encoded data removed]",
      "text/plain": [
       "<Figure size 640x480 with 1 Axes>"
      ]
     },
     "metadata": {},
     "output_type": "display_data"
    },
    {
     "name": "stdout",
     "output_type": "stream",
     "text": [
      "True\n"
     ]
    }
   ],
   "source": [
    "handled = easy_case(image)\n",
    "plotImageWithGrid(image)\n",
    "print(handled)"
   ]
  },
  {
   "cell_type": "code",
   "execution_count": 71,
   "id": "49ca9739-3281-485c-8bdd-9ec37f33f248",
   "metadata": {},
   "outputs": [
    {
     "data": {
      "text/plain": [
       "array([  0,   0,   0,   0,   0,   0,   0,   0,   0,   0,   0,   0,   0,\n",
       "         0,   0,   0,   0,   0,   0,   0,   0,   0,   0,   0,   0,   0,\n",
       "         0,   0,   0,   0,   0,   0,   0,   0,   0,   0,   0,   0,   0,\n",
       "         0,   0,   0,   0,   0,   0,   0,   0,   0,   0,   0,   0,   0,\n",
       "         0,   0,   0,   0,   0,   0,   0,   0,   0,   0,   0,   0,   0,\n",
       "         0,   0,   0,   0,   0,   0,   0,   0,   0,   0,   0,   0,   0,\n",
       "         0,   0,   0,   0,   0,   0,   0,   0,   0,   0,   0,   0,   0,\n",
       "         0,   0,   0,   0,   0,   0,   0,   0,   0,   0,   0,   0,   0,\n",
       "         0,   0,   0,   0,   0,   0,   0,   0,   0,   0,   0,   0,   0,\n",
       "         0,   0,   0,   0,   0,   0,   0,   0,   0,   0,   0,   0,   0,\n",
       "         0,   0,   0,   0,   0,   0,   0,   0,   0,   0,   0,   0,   0,\n",
       "         0,   0,   0,   0,   0,   0,   0,   0,   0,   0,   0,   0,   0,\n",
       "         0,   0,   0,   0,   0,   0,   0,   0,   0,   0,   0,   0,   0,\n",
       "         0,   0,   0,   0,   0,   0,   0,   0,   0,   0,   0,   0,   0,\n",
       "         0,   0,   0,   0,   0,   0,   0,   0,   0,   0,   0,   0,   0,\n",
       "         0,   0,   0,   0,   0,   0,   0,   0,   0,   0,   0,   0,   0,\n",
       "         0,   0,   0,   0,   0,   0,   0,   0,   0,   0,   0,   0,   0,\n",
       "         0,   0,   0,   0,   0,   0,   0,   0,   0,   0,   0,   0,   0,\n",
       "         0,   0,   0,   0,   0,   0,   0,   0,   0,   0,   0,   0,   0,\n",
       "         0,   0,   0,   0,   0,   0,   0,   0, 204, 204, 205, 205, 207,\n",
       "       210, 209, 208, 210, 208, 208, 207, 208, 209, 208, 208, 208, 208,\n",
       "       207, 207, 205, 201, 198, 204, 214, 214, 214, 214, 214, 214, 214,\n",
       "       214, 214, 214, 214, 214, 214, 214, 214, 214, 214, 214, 214, 214,\n",
       "       214, 214, 214, 214, 214, 213, 213,   0,   0,   0,   0,   0,   0,\n",
       "         0,   0,   0,   0,   0,   0,   0,   0,   0,   0,   0,   0,   0,\n",
       "         0,   0,   0,   0,   0,   0,   0,   0,   0,   0,   0,   0,   0,\n",
       "         0,   0,   0,   0,   0,   0,   0,   0,   0,   0,   0,   0,   0,\n",
       "         0,   0,   0,   0,   0,   0,   0,   0,   0,   0,   0,   0,   0,\n",
       "         0,   0,   0,   0,   0,   0,   0,   0,   0,   0,   0,   0,   0,\n",
       "         0,   0,   0,   0,   0,   0,   0,   0,   0,   0,   0,   0,   0,\n",
       "         0,   0,   0,   0,   0,   0,   0,   0,   0,   0])"
      ]
     },
     "execution_count": 71,
     "metadata": {},
     "output_type": "execute_result"
    }
   ],
   "source": [
    "image.sum(axis=0)[:400]"
   ]
  },
  {
   "cell_type": "code",
   "execution_count": null,
   "id": "72fe503e-7379-44dd-a221-12ed0279256e",
   "metadata": {},
   "outputs": [],
   "source": []
  }
 ],
 "metadata": {
  "kernelspec": {
   "display_name": "Python 3 (ipykernel)",
   "language": "python",
   "name": "python3"
  },
  "language_info": {
   "codemirror_mode": {
    "name": "ipython",
    "version": 3
   },
   "file_extension": ".py",
   "mimetype": "text/x-python",
   "name": "python",
   "nbconvert_exporter": "python",
   "pygments_lexer": "ipython3",
   "version": "3.11.5"
  }
 },
 "nbformat": 4,
 "nbformat_minor": 5
}
