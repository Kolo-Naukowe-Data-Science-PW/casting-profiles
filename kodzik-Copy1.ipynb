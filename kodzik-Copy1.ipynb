{
 "cells": [
  {
   "cell_type": "code",
   "execution_count": 3,
   "id": "0a2c1f58-fc00-4620-8245-ed3b224a4822",
   "metadata": {},
   "outputs": [],
   "source": [
    "import matplotlib.pyplot as plt\n",
    "import numpy as np\n",
    "from PIL import Image\n",
    "import os"
   ]
  },
  {
   "cell_type": "code",
   "execution_count": 4,
   "id": "a9b982c6-7046-4f72-b423-61f5ebbee828",
   "metadata": {},
   "outputs": [],
   "source": [
    "def plotImage(image):\n",
    "    plt.imshow(X=image, cmap=\"binary\")\n",
    "    plt.axis(\"off\")\n",
    "    plt.tight_layout()\n",
    "    plt.show()\n",
    "\n",
    "def plotImageWithGrid(image):\n",
    "    plt.imshow(X=image, cmap=\"binary\")\n",
    "    plt.tight_layout()\n",
    "    plt.grid(\"on\")\n",
    "    plt.show()"
   ]
  },
  {
   "cell_type": "code",
   "execution_count": 27,
   "id": "81ebdc71-2bd7-445e-a1d9-ebe567175a67",
   "metadata": {},
   "outputs": [],
   "source": [
    "def easy_case(data, empty_rows_threshold=10, empty_cols_threshold=10, scalling_coef_rows=0.04, scalling_coef_cols=0.04):\n",
    "    \"\"\"\n",
    "    Checks if it is possible to separate the label with horizontal/vertical line,\n",
    "    under the assumption is that the label is in the northwest part of the picture.\n",
    "    :param data: 2-dimensional matrix\n",
    "    :param empty_rows_threshold: rows with a sum of elements lower than that are find empty\n",
    "    :param empty_cols_threshold: cols with a sum of elements lower than that are find empty\n",
    "    :param scalling_coef_rows: proportion of half of the label to the whole picture\n",
    "    :param scalling_coef_cols: proportion of half of the label to the whole picture\n",
    "    :return: boolean value if algorithm worked\n",
    "    \"\"\"\n",
    "\n",
    "    rowSums, colSums = data.sum(axis=1), data.sum(axis=0)\n",
    "\n",
    "    emptyRows = (rowSums < empty_rows_threshold)\n",
    "    firstNonEmptyRowIndex = np.argmax(emptyRows)\n",
    "    if firstNonEmptyRowIndex < data.shape[0] // 2:\n",
    "        labelSpaceHeight = np.argmax(emptyRows[firstNonEmptyRowIndex+int(data.shape[0]*scalling_coef_rows):])\n",
    "        if labelSpaceHeight + firstNonEmptyRowIndex < data.shape[0] // 3:\n",
    "            data[:labelSpaceHeight + firstNonEmptyRowIndex, :] = 0\n",
    "            return True\n",
    "\n",
    "    emptyCols = (colSums < empty_cols_threshold)\n",
    "    firstNonEmptyColIndex = np.argmax(emptyCols)\n",
    "    if firstNonEmptyColIndex < data.shape[1] // 2:\n",
    "        labelSpaceWidth = np.argmax(emptyCols[firstNonEmptyColIndex+int(data.shape[0]*scalling_coef_cols):])\n",
    "        if labelSpaceWidth + firstNonEmptyColIndex < data.shape[1] // 3:\n",
    "            data[:, :labelSpaceWidth + firstNonEmptyColIndex] = 0\n",
    "            print(\"kolumnowo\")\n",
    "            return True\n",
    "\n",
    "    return False\n",
    "            \n",
    "\n",
    "def handle_labels_01(data):\n",
    "    if easy_case(data):\n",
    "        return data\n",
    "\n",
    "    rowSums, colSums = data.sum(axis=1), data.sum(axis=0)\n",
    "    \n",
    "    rowDiffs = np.diff(rowSums)\n",
    "    colDiffs = np.diff(colSums)\n",
    "\n",
    "    rowDiffs = (rowDiffs < -40).astype(np.int32)\n",
    "    colDiffs = (colDiffs < -50).astype(np.int32)\n",
    "\n",
    "    rowDiffs = np.diff(rowDiffs)\n",
    "    colDiffs = np.diff(colDiffs)\n",
    "\n",
    "    data[:int(np.argmin(rowDiffs)*1.05), :int(np.argmin(colDiffs)*1.05)] = 0\n",
    "\n",
    "    return data\n",
    "\n",
    "def handle_labels_02(data, coeff = 0.4):\n",
    "    if easy_case(data):\n",
    "        return data\n",
    "        \n",
    "    rowSums, colSums = data.sum(axis=1), data.sum(axis=0)\n",
    "\n",
    "    row = col = 0\n",
    "    for i in range(1000):\n",
    "        rowDiffs = np.diff(rowSums)\n",
    "        colDiffs = np.diff(colSums)\n",
    "    \n",
    "        rowDiffs = (rowDiffs < -coeff*np.max(np.abs(rowDiffs))).astype(np.int32)\n",
    "        colDiffs = (colDiffs < -coeff*np.max(np.abs(colDiffs))).astype(np.int32)\n",
    "    \n",
    "        rowDiffs = np.diff(rowDiffs)\n",
    "        colDiffs = np.diff(colDiffs)\n",
    "    \n",
    "    data[:int(np.argmin(rowSums)*1.05), :int(np.argmin(colDiffs)*1.05)] = 0\n",
    "\n",
    "    return data\n",
    "\n",
    "def handle_labels_03(data, label_coeff=0.3, finalHeight = 1754, finalWidth = 1275):\n",
    "    if easy_case(data):\n",
    "        return data\n",
    "    \n",
    "    rowSums, colSums = data.sum(axis=1), data.sum(axis=0)\n",
    "    \n",
    "    for i in np.linspace(label_coeff, 0, 100):\n",
    "        rowDiffs = np.diff(rowSums)\n",
    "        colDiffs = np.diff(colSums)\n",
    "    \n",
    "        rowDiffs = (rowDiffs < -i*np.max(np.abs(rowDiffs[:data.shape[0]//2]))).astype(np.int8)\n",
    "        colDiffs = (colDiffs < -i*np.max(np.abs(colDiffs[:data.shape[1]//2]))).astype(np.int8)\n",
    "\n",
    "        rowDiffs = np.diff(rowDiffs)\n",
    "        colDiffs = np.diff(colDiffs)\n",
    "\n",
    "        if np.where(rowDiffs < 0)[0].shape[0] * np.where(colDiffs < 0)[0].shape[0] != 0:\n",
    "            break\n",
    "    else:\n",
    "        print(\"Wystapił błąd\")\n",
    "        return data\n",
    "        \n",
    "    data[:int(np.where(rowDiffs)[0][-1]*1.05), :int(np.where(colDiffs)[0][-1]*1.05)] = 0\n",
    "    return data\n",
    "\n",
    "    #rowDiffs = (rowDiffs < -label_coeff*np.max(np.abs(rowDiffs[:data.shape[0]//2))).astype(np.int8)\n",
    "    #colDiffs = (colDiffs < -label_coeff*np.max(np.abs(colDiffs[:data.shape[1]//2)).astype(np.int8)\n",
    "\n",
    "    \n",
    "\n",
    "    #rowDiffs[:350] = 0\n",
    "    #colDiffs[:350] = 0\n",
    "\n",
    "    "
   ]
  },
  {
   "cell_type": "code",
   "execution_count": 28,
   "id": "820d8d9a-a9c9-425c-bd99-251f1d568c1e",
   "metadata": {},
   "outputs": [],
   "source": [
    "def pipeline(data, label_coeff = 0.3, reshape_coeff=5e-6, reshape_margin=0.5, \n",
    "             finalHeight = 1754, finalWidth = 1275):\n",
    "    # handling label\n",
    "    #data[:350, :350] = 0\n",
    "\n",
    "    \n",
    "    data = handle_labels_02(data)\n",
    "    \n",
    "    # reshaping\n",
    "    rowSums, colSums = data.sum(axis=1), data.sum(axis=0)\n",
    "    rowIndexes = colIndexes = np.array([])\n",
    "    for i in range(1000):\n",
    "        if rowIndexes.shape[0] * colIndexes.shape[0] != 0:\n",
    "            break\n",
    "        rows = rowSums >= reshape_coeff*np.max(rowSums)\n",
    "        cols = colSums >= reshape_coeff*np.max(colSums)\n",
    "        reshape_coeff *= 0.5\n",
    "    \n",
    "        colIndexes = np.where(cols)[0]\n",
    "        rowIndexes = np.where(rows)[0]\n",
    "    else:\n",
    "        print(rowIndexes.shape, colIndexes.shape)\n",
    "        print(\"Wystapił błąd\")\n",
    "        return np.zeros((finalHeight, finalWidth))\n",
    "\n",
    "    rowFirst, rowLast = rowIndexes[1], rowIndexes[-1]\n",
    "    colFirst, colLast = colIndexes[1], colIndexes[-1]\n",
    "    rowWidth = rowLast - rowFirst\n",
    "    colWidth = colLast - colFirst\n",
    "\n",
    "    rowStart = max(int(rowFirst-reshape_margin*rowWidth), 0)\n",
    "    colStart =  max(int(colFirst-reshape_margin*colWidth), 0)\n",
    "    rowEnd = min(int(rowLast+reshape_margin*rowWidth), data.shape[0])\n",
    "    colEnd = min(int(colLast+reshape_margin*colWidth), data.shape[1])\n",
    "    \n",
    "    data = data[rowStart:rowEnd, colStart:colEnd]\n",
    "\n",
    "    paddingTop = max(0, (finalHeight - data.shape[0]) // 2)\n",
    "    paddingBot = max(0, finalHeight - paddingTop - data.shape[0])\n",
    "    paddingLeft = max(0, (finalWidth - data.shape[1]) // 2)\n",
    "    paddingRight = max(0, finalWidth - paddingLeft - data.shape[1])\n",
    "\n",
    "    data = np.pad(\n",
    "        1 - data, # to save in proper colours \n",
    "        ((paddingTop, paddingBot), (paddingLeft, paddingRight)),\n",
    "        mode=\"constant\", constant_values=1\n",
    "                 )\n",
    "    \n",
    "    return data"
   ]
  },
  {
   "cell_type": "code",
   "execution_count": 29,
   "id": "ddef216f-7d97-41bb-934d-02b1426b84c2",
   "metadata": {},
   "outputs": [],
   "source": [
    "def read_and_convert_to_binary(filepath, threshold = 0.3, coef=0.4):\n",
    "    \"\"\"\n",
    "    Requires numpy and Image from PIL\n",
    "    \"\"\"\n",
    "    image = Image.open(filepath)\n",
    "\n",
    "    data = np.asarray(image)\n",
    "    data = 0.2989 * data[:,:,0] + 0.5870 * data[:,:,1] + 0.1140 * data[:,:,2]\n",
    "    data = data / 255\n",
    "    data = 1 - data\n",
    "\n",
    "    rowSums = data.sum(axis=1)\n",
    "    colSums = data.sum(axis=0)\n",
    "\n",
    "    data[rowSums <= 4, :] = 0\n",
    "    data[:, colSums <= 6] = 0\n",
    "    \n",
    "    data = data > threshold\n",
    "\n",
    "    return data  "
   ]
  },
  {
   "cell_type": "code",
   "execution_count": 36,
   "id": "08f670b6-392f-41e5-b325-21404c7b0e99",
   "metadata": {},
   "outputs": [],
   "source": [
    "image = read_and_convert_to_binary(\"Skany profili//Profil 090.1.jpg\")"
   ]
  },
  {
   "cell_type": "code",
   "execution_count": 37,
   "id": "fb14b748-2c2b-4be7-9dff-5ba49880b0f2",
   "metadata": {},
   "outputs": [
    {
     "data": {
      "image/png": "[encoded data removed]",
      "text/plain": [
       "<Figure size 640x480 with 1 Axes>"
      ]
     },
     "metadata": {},
     "output_type": "display_data"
    }
   ],
   "source": [
    "plotImage(image)"
   ]
  },
  {
   "cell_type": "code",
   "execution_count": null,
   "id": "45d6a469-3a71-4b49-be91-b39a75e04b7f",
   "metadata": {},
   "outputs": [],
   "source": []
  },
  {
   "cell_type": "code",
   "execution_count": 38,
   "id": "600c18ac-3131-4bc3-9d90-5e477ef4bb7a",
   "metadata": {},
   "outputs": [
    {
     "name": "stdout",
     "output_type": "stream",
     "text": [
      "kolumnowo\n"
     ]
    },
    {
     "data": {
      "image/png": "[encoded data removed]",
      "text/plain": [
       "<Figure size 640x480 with 1 Axes>"
      ]
     },
     "metadata": {},
     "output_type": "display_data"
    },
    {
     "name": "stdout",
     "output_type": "stream",
     "text": [
      "True\n"
     ]
    }
   ],
   "source": [
    "handled = easy_case(image)\n",
    "plotImage(image)\n",
    "print(handled)"
   ]
  },
  {
   "cell_type": "code",
   "execution_count": 17,
   "id": "e7ee6861-2bb7-4687-9411-69dcaf2ee90f",
   "metadata": {},
   "outputs": [],
   "source": [
    "for filename in os.listdir(\"Skany profili\"):\n",
    "    image = Image.fromarray((1-pipeline(read_and_convert_to_binary(\"Skany profili//\"+filename)))*255).convert(\"1\")\n",
    "    image.save(\"without_labels_best//\"+filename[:-4]+\".png\")"
   ]
  },
  {
   "cell_type": "code",
   "execution_count": null,
   "id": "81401ab3-cace-47ab-8e66-cb089d53bb35",
   "metadata": {},
   "outputs": [],
   "source": []
  }
 ],
 "metadata": {
  "kernelspec": {
   "display_name": "Python 3 (ipykernel)",
   "language": "python",
   "name": "python3"
  },
  "language_info": {
   "codemirror_mode": {
    "name": "ipython",
    "version": 3
   },
   "file_extension": ".py",
   "mimetype": "text/x-python",
   "name": "python",
   "nbconvert_exporter": "python",
   "pygments_lexer": "ipython3",
   "version": "3.11.5"
  }
 },
 "nbformat": 4,
 "nbformat_minor": 5
}
